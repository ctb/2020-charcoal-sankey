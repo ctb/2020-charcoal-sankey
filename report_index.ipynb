{
 "cells": [
  {
   "cell_type": "code",
   "execution_count": 2,
   "metadata": {
    "tags": [
     "parameters"
    ]
   },
   "outputs": [],
   "source": [
    "directory = 'output.ibd2'"
   ]
  },
  {
   "cell_type": "code",
   "execution_count": 5,
   "metadata": {},
   "outputs": [
    {
     "data": {
      "text/markdown": [
       "[SRS104400_110.fna.gz](output.ibd2/SRS104400_110.fna.gz.fig.html)"
      ],
      "text/plain": [
       "<IPython.core.display.Markdown object>"
      ]
     },
     "metadata": {},
     "output_type": "display_data"
    },
    {
     "data": {
      "text/markdown": [
       "[SRS143598_15.fna.gz](output.ibd2/SRS143598_15.fna.gz.fig.html)"
      ],
      "text/plain": [
       "<IPython.core.display.Markdown object>"
      ]
     },
     "metadata": {},
     "output_type": "display_data"
    },
    {
     "data": {
      "text/markdown": [
       "[ERS235530_10.fna.gz](output.ibd2/ERS235530_10.fna.gz.fig.html)"
      ],
      "text/plain": [
       "<IPython.core.display.Markdown object>"
      ]
     },
     "metadata": {},
     "output_type": "display_data"
    },
    {
     "data": {
      "text/markdown": [
       "[SRS1719498_9.fna.gz](output.ibd2/SRS1719498_9.fna.gz.fig.html)"
      ],
      "text/plain": [
       "<IPython.core.display.Markdown object>"
      ]
     },
     "metadata": {},
     "output_type": "display_data"
    },
    {
     "data": {
      "text/markdown": [
       "[ERS396297_11.fna.gz](output.ibd2/ERS396297_11.fna.gz.fig.html)"
      ],
      "text/plain": [
       "<IPython.core.display.Markdown object>"
      ]
     },
     "metadata": {},
     "output_type": "display_data"
    },
    {
     "data": {
      "text/markdown": [
       "[ERS396519_11.fna.gz](output.ibd2/ERS396519_11.fna.gz.fig.html)"
      ],
      "text/plain": [
       "<IPython.core.display.Markdown object>"
      ]
     },
     "metadata": {},
     "output_type": "display_data"
    },
    {
     "data": {
      "text/markdown": [
       "[SRR4305229_bin.5.fa.gz](output.ibd2/SRR4305229_bin.5.fa.gz.fig.html)"
      ],
      "text/plain": [
       "<IPython.core.display.Markdown object>"
      ]
     },
     "metadata": {},
     "output_type": "display_data"
    },
    {
     "data": {
      "text/markdown": [
       "[ERS537328_30.fna.gz](output.ibd2/ERS537328_30.fna.gz.fig.html)"
      ],
      "text/plain": [
       "<IPython.core.display.Markdown object>"
      ]
     },
     "metadata": {},
     "output_type": "display_data"
    },
    {
     "data": {
      "text/markdown": [
       "[LeChatelierE_2013__MH0074__bin.19.fa.gz](output.ibd2/LeChatelierE_2013__MH0074__bin.19.fa.gz.fig.html)"
      ],
      "text/plain": [
       "<IPython.core.display.Markdown object>"
      ]
     },
     "metadata": {},
     "output_type": "display_data"
    },
    {
     "data": {
      "text/markdown": [
       "[SRS1719112_8.fna.gz](output.ibd2/SRS1719112_8.fna.gz.fig.html)"
      ],
      "text/plain": [
       "<IPython.core.display.Markdown object>"
      ]
     },
     "metadata": {},
     "output_type": "display_data"
    },
    {
     "data": {
      "text/markdown": [
       "[SRR5127401_bin.3.fa.gz](output.ibd2/SRR5127401_bin.3.fa.gz.fig.html)"
      ],
      "text/plain": [
       "<IPython.core.display.Markdown object>"
      ]
     },
     "metadata": {},
     "output_type": "display_data"
    },
    {
     "data": {
      "text/markdown": [
       "[ERS235531_43.fna.gz](output.ibd2/ERS235531_43.fna.gz.fig.html)"
      ],
      "text/plain": [
       "<IPython.core.display.Markdown object>"
      ]
     },
     "metadata": {},
     "output_type": "display_data"
    },
    {
     "data": {
      "text/markdown": [
       "[ERS537353_12.fna.gz](output.ibd2/ERS537353_12.fna.gz.fig.html)"
      ],
      "text/plain": [
       "<IPython.core.display.Markdown object>"
      ]
     },
     "metadata": {},
     "output_type": "display_data"
    },
    {
     "data": {
      "text/markdown": [
       "[ERS537235_19.fna.gz](output.ibd2/ERS537235_19.fna.gz.fig.html)"
      ],
      "text/plain": [
       "<IPython.core.display.Markdown object>"
      ]
     },
     "metadata": {},
     "output_type": "display_data"
    },
    {
     "data": {
      "text/markdown": [
       "[SRS476209_42.fna.gz](output.ibd2/SRS476209_42.fna.gz.fig.html)"
      ],
      "text/plain": [
       "<IPython.core.display.Markdown object>"
      ]
     },
     "metadata": {},
     "output_type": "display_data"
    },
    {
     "data": {
      "text/markdown": [
       "[ERS608576_22.fna.gz](output.ibd2/ERS608576_22.fna.gz.fig.html)"
      ],
      "text/plain": [
       "<IPython.core.display.Markdown object>"
      ]
     },
     "metadata": {},
     "output_type": "display_data"
    },
    {
     "data": {
      "text/markdown": [
       "[ERS608524_37.fna.gz](output.ibd2/ERS608524_37.fna.gz.fig.html)"
      ],
      "text/plain": [
       "<IPython.core.display.Markdown object>"
      ]
     },
     "metadata": {},
     "output_type": "display_data"
    },
    {
     "data": {
      "text/markdown": [
       "[SRS075078_49.fna.gz](output.ibd2/SRS075078_49.fna.gz.fig.html)"
      ],
      "text/plain": [
       "<IPython.core.display.Markdown object>"
      ]
     },
     "metadata": {},
     "output_type": "display_data"
    },
    {
     "data": {
      "text/markdown": [
       "[SRS1735645_19.fna.gz](output.ibd2/SRS1735645_19.fna.gz.fig.html)"
      ],
      "text/plain": [
       "<IPython.core.display.Markdown object>"
      ]
     },
     "metadata": {},
     "output_type": "display_data"
    },
    {
     "data": {
      "text/markdown": [
       "[ERS473255_26.fna.gz](output.ibd2/ERS473255_26.fna.gz.fig.html)"
      ],
      "text/plain": [
       "<IPython.core.display.Markdown object>"
      ]
     },
     "metadata": {},
     "output_type": "display_data"
    },
    {
     "data": {
      "text/markdown": [
       "[GCF_900036035.1_RGNV35913_genomic.fna.gz](output.ibd2/GCF_900036035.1_RGNV35913_genomic.fna.gz.fig.html)"
      ],
      "text/plain": [
       "<IPython.core.display.Markdown object>"
      ]
     },
     "metadata": {},
     "output_type": "display_data"
    },
    {
     "data": {
      "text/markdown": [
       "[ERS235603_16.fna.gz](output.ibd2/ERS235603_16.fna.gz.fig.html)"
      ],
      "text/plain": [
       "<IPython.core.display.Markdown object>"
      ]
     },
     "metadata": {},
     "output_type": "display_data"
    },
    {
     "data": {
      "text/markdown": [
       "[SRS1735506_4.fna.gz](output.ibd2/SRS1735506_4.fna.gz.fig.html)"
      ],
      "text/plain": [
       "<IPython.core.display.Markdown object>"
      ]
     },
     "metadata": {},
     "output_type": "display_data"
    },
    {
     "data": {
      "text/markdown": [
       "[ERS537218_9.fna.gz](output.ibd2/ERS537218_9.fna.gz.fig.html)"
      ],
      "text/plain": [
       "<IPython.core.display.Markdown object>"
      ]
     },
     "metadata": {},
     "output_type": "display_data"
    },
    {
     "data": {
      "text/markdown": [
       "[ZeeviD_2015__PNP_Main_232__bin.27.fa.gz](output.ibd2/ZeeviD_2015__PNP_Main_232__bin.27.fa.gz.fig.html)"
      ],
      "text/plain": [
       "<IPython.core.display.Markdown object>"
      ]
     },
     "metadata": {},
     "output_type": "display_data"
    },
    {
     "data": {
      "text/markdown": [
       "[SRS1719577_6.fna.gz](output.ibd2/SRS1719577_6.fna.gz.fig.html)"
      ],
      "text/plain": [
       "<IPython.core.display.Markdown object>"
      ]
     },
     "metadata": {},
     "output_type": "display_data"
    },
    {
     "data": {
      "text/markdown": [
       "[SRR6028281_bin.3.fa.gz](output.ibd2/SRR6028281_bin.3.fa.gz.fig.html)"
      ],
      "text/plain": [
       "<IPython.core.display.Markdown object>"
      ]
     },
     "metadata": {},
     "output_type": "display_data"
    },
    {
     "data": {
      "text/markdown": [
       "[LoombaR_2017__SID1050_bax__bin.11.fa.gz](output.ibd2/LoombaR_2017__SID1050_bax__bin.11.fa.gz.fig.html)"
      ],
      "text/plain": [
       "<IPython.core.display.Markdown object>"
      ]
     },
     "metadata": {},
     "output_type": "display_data"
    },
    {
     "data": {
      "text/markdown": [
       "[VogtmannE_2016__MMRS43563715ST-27-0-0__bin.70.fa.gz](output.ibd2/VogtmannE_2016__MMRS43563715ST-27-0-0__bin.70.fa.gz.fig.html)"
      ],
      "text/plain": [
       "<IPython.core.display.Markdown object>"
      ]
     },
     "metadata": {},
     "output_type": "display_data"
    },
    {
     "data": {
      "text/markdown": [
       "[SRS294916_20.fna.gz](output.ibd2/SRS294916_20.fna.gz.fig.html)"
      ],
      "text/plain": [
       "<IPython.core.display.Markdown object>"
      ]
     },
     "metadata": {},
     "output_type": "display_data"
    },
    {
     "data": {
      "text/markdown": [
       "[LiSS_2016__FAT_DON_8-22-0-0__bin.28.fa.gz](output.ibd2/LiSS_2016__FAT_DON_8-22-0-0__bin.28.fa.gz.fig.html)"
      ],
      "text/plain": [
       "<IPython.core.display.Markdown object>"
      ]
     },
     "metadata": {},
     "output_type": "display_data"
    },
    {
     "data": {
      "text/markdown": [
       "[SRS103987_37.fna.gz](output.ibd2/SRS103987_37.fna.gz.fig.html)"
      ],
      "text/plain": [
       "<IPython.core.display.Markdown object>"
      ]
     },
     "metadata": {},
     "output_type": "display_data"
    },
    {
     "data": {
      "text/markdown": [
       "[GCF_001405615.1_13414_6_47_genomic.fna.gz](output.ibd2/GCF_001405615.1_13414_6_47_genomic.fna.gz.fig.html)"
      ],
      "text/plain": [
       "<IPython.core.display.Markdown object>"
      ]
     },
     "metadata": {},
     "output_type": "display_data"
    },
    {
     "data": {
      "text/markdown": [
       "[LiJ_2014__O2.UC28-1__bin.61.fa.gz](output.ibd2/LiJ_2014__O2.UC28-1__bin.61.fa.gz.fig.html)"
      ],
      "text/plain": [
       "<IPython.core.display.Markdown object>"
      ]
     },
     "metadata": {},
     "output_type": "display_data"
    },
    {
     "data": {
      "text/markdown": [
       "[VatanenT_2016__G80445__bin.9.fa.gz](output.ibd2/VatanenT_2016__G80445__bin.9.fa.gz.fig.html)"
      ],
      "text/plain": [
       "<IPython.core.display.Markdown object>"
      ]
     },
     "metadata": {},
     "output_type": "display_data"
    },
    {
     "data": {
      "text/markdown": [
       "[NielsenHB_2014__MH0094__bin.44.fa.gz](output.ibd2/NielsenHB_2014__MH0094__bin.44.fa.gz.fig.html)"
      ],
      "text/plain": [
       "<IPython.core.display.Markdown object>"
      ]
     },
     "metadata": {},
     "output_type": "display_data"
    },
    {
     "data": {
      "text/markdown": [
       "[GCF_000508885.1_ASM50888v1_genomic.fna.gz](output.ibd2/GCF_000508885.1_ASM50888v1_genomic.fna.gz.fig.html)"
      ],
      "text/plain": [
       "<IPython.core.display.Markdown object>"
      ]
     },
     "metadata": {},
     "output_type": "display_data"
    },
    {
     "data": {
      "text/markdown": [
       "[SRR5558047_bin.10.fa.gz](output.ibd2/SRR5558047_bin.10.fa.gz.fig.html)"
      ],
      "text/plain": [
       "<IPython.core.display.Markdown object>"
      ]
     },
     "metadata": {},
     "output_type": "display_data"
    },
    {
     "data": {
      "text/markdown": [
       "[GCF_000371685.1_Clos_bolt_90B3_V1_genomic.fna.gz](output.ibd2/GCF_000371685.1_Clos_bolt_90B3_V1_genomic.fna.gz.fig.html)"
      ],
      "text/plain": [
       "<IPython.core.display.Markdown object>"
      ]
     },
     "metadata": {},
     "output_type": "display_data"
    },
    {
     "data": {
      "text/markdown": [
       "[XieH_2016__YSZC12003_37172__bin.63.fa.gz](output.ibd2/XieH_2016__YSZC12003_37172__bin.63.fa.gz.fig.html)"
      ],
      "text/plain": [
       "<IPython.core.display.Markdown object>"
      ]
     },
     "metadata": {},
     "output_type": "display_data"
    },
    {
     "data": {
      "text/markdown": [
       "[QinJ_2012__CON-091__bin.20.fa.gz](output.ibd2/QinJ_2012__CON-091__bin.20.fa.gz.fig.html)"
      ],
      "text/plain": [
       "<IPython.core.display.Markdown object>"
      ]
     },
     "metadata": {},
     "output_type": "display_data"
    }
   ],
   "source": [
    "from charcoal.utils import CSV_DictHelper\n",
    "from IPython.display import display, Markdown\n",
    "\n",
    "summary = CSV_DictHelper(f'{directory}/genome_summary.csv', 'genome')\n",
    "\n",
    "for genome in summary.rows:\n",
    "    display(Markdown(f\"[{genome}]({genome}.fig.html)\"))"
   ]
  },
  {
   "cell_type": "code",
   "execution_count": null,
   "metadata": {},
   "outputs": [],
   "source": []
  }
 ],
 "metadata": {
  "kernelspec": {
   "display_name": "Python (myenv)",
   "language": "python",
   "name": "myenv"
  },
  "language_info": {
   "codemirror_mode": {
    "name": "ipython",
    "version": 3
   },
   "file_extension": ".py",
   "mimetype": "text/x-python",
   "name": "python",
   "nbconvert_exporter": "python",
   "pygments_lexer": "ipython3",
   "version": "3.7.6"
  }
 },
 "nbformat": 4,
 "nbformat_minor": 4
}
