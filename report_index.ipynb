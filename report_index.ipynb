{
 "cells": [
  {
   "cell_type": "code",
   "execution_count": 2,
   "metadata": {
    "tags": [
     "parameters"
    ]
   },
   "outputs": [],
   "source": [
    "directory = 'output.ibd2'"
   ]
  },
  {
   "cell_type": "code",
   "execution_count": 9,
   "metadata": {},
   "outputs": [
    {
     "data": {
      "text/markdown": [
       "* [`SRS104400_110.fna.gz`](SRS104400_110.fna.gz.fig.html)\n",
       "* [`SRS143598_15.fna.gz`](SRS143598_15.fna.gz.fig.html)\n",
       "* [`ERS235530_10.fna.gz`](ERS235530_10.fna.gz.fig.html)\n",
       "* [`SRS1719498_9.fna.gz`](SRS1719498_9.fna.gz.fig.html)\n",
       "* [`ERS396297_11.fna.gz`](ERS396297_11.fna.gz.fig.html)\n",
       "* [`ERS396519_11.fna.gz`](ERS396519_11.fna.gz.fig.html)\n",
       "* [`SRR4305229_bin.5.fa.gz`](SRR4305229_bin.5.fa.gz.fig.html)\n",
       "* [`ERS537328_30.fna.gz`](ERS537328_30.fna.gz.fig.html)\n",
       "* [`LeChatelierE_2013__MH0074__bin.19.fa.gz`](LeChatelierE_2013__MH0074__bin.19.fa.gz.fig.html)\n",
       "* [`SRS1719112_8.fna.gz`](SRS1719112_8.fna.gz.fig.html)\n",
       "* [`SRR5127401_bin.3.fa.gz`](SRR5127401_bin.3.fa.gz.fig.html)\n",
       "* [`ERS235531_43.fna.gz`](ERS235531_43.fna.gz.fig.html)\n",
       "* [`ERS537353_12.fna.gz`](ERS537353_12.fna.gz.fig.html)\n",
       "* [`ERS537235_19.fna.gz`](ERS537235_19.fna.gz.fig.html)\n",
       "* [`SRS476209_42.fna.gz`](SRS476209_42.fna.gz.fig.html)\n",
       "* [`ERS608576_22.fna.gz`](ERS608576_22.fna.gz.fig.html)\n",
       "* [`ERS608524_37.fna.gz`](ERS608524_37.fna.gz.fig.html)\n",
       "* [`SRS075078_49.fna.gz`](SRS075078_49.fna.gz.fig.html)\n",
       "* [`SRS1735645_19.fna.gz`](SRS1735645_19.fna.gz.fig.html)\n",
       "* [`ERS473255_26.fna.gz`](ERS473255_26.fna.gz.fig.html)\n",
       "* [`GCF_900036035.1_RGNV35913_genomic.fna.gz`](GCF_900036035.1_RGNV35913_genomic.fna.gz.fig.html)\n",
       "* [`ERS235603_16.fna.gz`](ERS235603_16.fna.gz.fig.html)\n",
       "* [`SRS1735506_4.fna.gz`](SRS1735506_4.fna.gz.fig.html)\n",
       "* [`ERS537218_9.fna.gz`](ERS537218_9.fna.gz.fig.html)\n",
       "* [`ZeeviD_2015__PNP_Main_232__bin.27.fa.gz`](ZeeviD_2015__PNP_Main_232__bin.27.fa.gz.fig.html)\n",
       "* [`SRS1719577_6.fna.gz`](SRS1719577_6.fna.gz.fig.html)\n",
       "* [`SRR6028281_bin.3.fa.gz`](SRR6028281_bin.3.fa.gz.fig.html)\n",
       "* [`LoombaR_2017__SID1050_bax__bin.11.fa.gz`](LoombaR_2017__SID1050_bax__bin.11.fa.gz.fig.html)\n",
       "* [`VogtmannE_2016__MMRS43563715ST-27-0-0__bin.70.fa.gz`](VogtmannE_2016__MMRS43563715ST-27-0-0__bin.70.fa.gz.fig.html)\n",
       "* [`SRS294916_20.fna.gz`](SRS294916_20.fna.gz.fig.html)\n",
       "* [`LiSS_2016__FAT_DON_8-22-0-0__bin.28.fa.gz`](LiSS_2016__FAT_DON_8-22-0-0__bin.28.fa.gz.fig.html)\n",
       "* [`SRS103987_37.fna.gz`](SRS103987_37.fna.gz.fig.html)\n",
       "* [`GCF_001405615.1_13414_6_47_genomic.fna.gz`](GCF_001405615.1_13414_6_47_genomic.fna.gz.fig.html)\n",
       "* [`LiJ_2014__O2.UC28-1__bin.61.fa.gz`](LiJ_2014__O2.UC28-1__bin.61.fa.gz.fig.html)\n",
       "* [`VatanenT_2016__G80445__bin.9.fa.gz`](VatanenT_2016__G80445__bin.9.fa.gz.fig.html)\n",
       "* [`NielsenHB_2014__MH0094__bin.44.fa.gz`](NielsenHB_2014__MH0094__bin.44.fa.gz.fig.html)\n",
       "* [`GCF_000508885.1_ASM50888v1_genomic.fna.gz`](GCF_000508885.1_ASM50888v1_genomic.fna.gz.fig.html)\n",
       "* [`SRR5558047_bin.10.fa.gz`](SRR5558047_bin.10.fa.gz.fig.html)\n",
       "* [`GCF_000371685.1_Clos_bolt_90B3_V1_genomic.fna.gz`](GCF_000371685.1_Clos_bolt_90B3_V1_genomic.fna.gz.fig.html)\n",
       "* [`XieH_2016__YSZC12003_37172__bin.63.fa.gz`](XieH_2016__YSZC12003_37172__bin.63.fa.gz.fig.html)\n",
       "* [`QinJ_2012__CON-091__bin.20.fa.gz`](QinJ_2012__CON-091__bin.20.fa.gz.fig.html)\n"
      ],
      "text/plain": [
       "<IPython.core.display.Markdown object>"
      ]
     },
     "metadata": {},
     "output_type": "display_data"
    }
   ],
   "source": [
    "from charcoal.utils import CSV_DictHelper\n",
    "from IPython.display import display, Markdown\n",
    "\n",
    "summary = CSV_DictHelper(f'{directory}/genome_summary.csv', 'genome')\n",
    "\n",
    "output = []\n",
    "for genome in summary.rows:\n",
    "    output.append(f\"* [`{genome}`]({genome}.fig.html)\\n\")\n",
    "    \n",
    "display(Markdown(\"\".join(output)))\n",
    "    "
   ]
  },
  {
   "cell_type": "code",
   "execution_count": null,
   "metadata": {},
   "outputs": [],
   "source": []
  }
 ],
 "metadata": {
  "kernelspec": {
   "display_name": "Python (myenv)",
   "language": "python",
   "name": "myenv"
  },
  "language_info": {
   "codemirror_mode": {
    "name": "ipython",
    "version": 3
   },
   "file_extension": ".py",
   "mimetype": "text/x-python",
   "name": "python",
   "nbconvert_exporter": "python",
   "pygments_lexer": "ipython3",
   "version": "3.7.6"
  }
 },
 "nbformat": 4,
 "nbformat_minor": 4
}
