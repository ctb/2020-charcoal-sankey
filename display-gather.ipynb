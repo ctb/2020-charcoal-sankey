{
 "cells": [
  {
   "cell_type": "markdown",
   "metadata": {},
   "source": [
    "# Display gather results w/taxonomy"
   ]
  },
  {
   "cell_type": "code",
   "execution_count": 1,
   "metadata": {},
   "outputs": [],
   "source": [
    "from charcoal import utils\n",
    "import sourmash\n",
    "from sourmash.lca import taxlist, LineagePair\n",
    "import collections\n",
    "\n",
    "import plotly.graph_objects as go\n",
    "\n",
    "import sourmash_sankey\n",
    "import importlib\n",
    "\n",
    "import os.path\n",
    "\n",
    "import screed\n",
    "\n",
    "from sourmash.lca.command_index import load_taxonomy_assignments\n",
    "from sourmash.lca import LCA_Database\n",
    "\n",
    "from charcoal.lineage_db import LineageDB\n",
    "from charcoal.utils import (gather_at_rank, get_ident, ContigGatherInfo)"
   ]
  },
  {
   "cell_type": "code",
   "execution_count": null,
   "metadata": {},
   "outputs": [],
   "source": []
  },
  {
   "cell_type": "code",
   "execution_count": 24,
   "metadata": {},
   "outputs": [],
   "source": [
    "def gather_at_rank(mh, lca_db, match_rank):\n",
    "    \"Run gather, and aggregate at given rank.\"\n",
    "    import copy\n",
    "    minhash = copy.copy(mh)\n",
    "    query_sig = sourmash.SourmashSignature(minhash)\n",
    "\n",
    "    # do the gather:                                                            \n",
    "    counts = collections.Counter()\n",
    "    while 1:\n",
    "        results = lca_db.gather(query_sig, threshold_bp=0)\n",
    "        if not results:\n",
    "            break\n",
    "\n",
    "        (match, match_sig, _) = results[0]\n",
    "        \n",
    "        print('XXX', match_sig._name, match_sig.filename)\n",
    "\n",
    "        # retrieve lineage & pop to match_rank                                  \n",
    "        match_ident = os.path.basename(match_sig.filename)\n",
    "        match_idx = lca_db.ident_to_idx[match_ident]\n",
    "        match_lid = lca_db.idx_to_lid[idx]\n",
    "        match_lineage = lca_db.lid_to_lineage[match_lid]\n",
    "        match_lineage = pop_to_rank(match_lineage, match_rank)\n",
    "\n",
    "        # count at match_rank                                                   \n",
    "        common = match_sig.minhash.count_common(query_sig.minhash)\n",
    "        counts[match_lineage] += common\n",
    "\n",
    "        # finish out gather algorithm!                                          \n",
    "        minhash.remove_many(match_sig.minhash.hashes)\n",
    "        query_sig = sourmash.SourmashSignature(minhash)\n",
    "\n",
    "    # return!                                                                   \n",
    "    for lin, count in counts.most_common():\n",
    "        yield lin, count\n",
    "        \n",
    "def do(genome_filename, genome_sig_filename, lca_db):\n",
    "    genomebase = os.path.basename(genome_filename)\n",
    "    match_rank = 'genus'\n",
    "\n",
    "    # load the genome signature                                                 \n",
    "    genome_sig = sourmash.load_one_signature(genome_sig_filename)\n",
    "\n",
    "    # construct a template minhash object that we can use to create new 'uns    \n",
    "    empty_mh = genome_sig.minhash.copy_and_clear()\n",
    "    ksize = empty_mh.ksize\n",
    "    scaled = empty_mh.scaled\n",
    "    moltype = empty_mh.moltype\n",
    "\n",
    "    print('')\n",
    "    print(f'reading contigs from {genomebase}')\n",
    "\n",
    "    screed_iter = screed.open(genome_filename)\n",
    "    contigs_tax = {}\n",
    "    for n, record in enumerate(screed_iter):\n",
    "       # look at each contig individually                                      \n",
    "        mh = empty_mh.copy_and_clear()\n",
    "        mh.add_sequence(record.sequence, force=True)\n",
    "\n",
    "        # collect all the gather results at genus level, together w/counts;     \n",
    "        # here, results is a list of (lineage, count) tuples.                   \n",
    "        results = list(gather_at_rank(mh, lca_db, match_rank))\n",
    "\n",
    "        # store together with size of sequence.                                 \n",
    "        info = ContigGatherInfo(len(record.sequence), len(mh), results)\n",
    "        contigs_tax[record.name] = info\n",
    "\n",
    "    print(f\"Processed {len(contigs_tax)} contigs.\")\n",
    "    return contigs_tax\n"
   ]
  },
  {
   "cell_type": "code",
   "execution_count": 25,
   "metadata": {},
   "outputs": [
    {
     "name": "stdout",
     "output_type": "stream",
     "text": [
      "['GCA_002722735.1_genomic.fna.gz', 'GCA_003193925.1_genomic.fna.gz', 'GCA_002495735.1_genomic.fna.gz', 'GCA_002503285.1_genomic.fna.gz', 'GCA_002457145.1_genomic.fna.gz', 'GCA_002507125.1_genomic.fna.gz', 'GCA_002505775.1_genomic.fna.gz', 'GCA_002502095.1_genomic.fna.gz', 'GCA_001628485.1_genomic.fna.gz', 'GCA_002716085.1_genomic.fna.gz', 'GCA_002494975.1_genomic.fna.gz', 'GCA_002499325.1_genomic.fna.gz', 'GCA_001629205.1_genomic.fna.gz', 'GCA_001629255.1_genomic.fna.gz', 'GCF_000493815.1_genomic.fna.gz', 'GCA_002457605.1_genomic.fna.gz', 'GCA_002730775.1_genomic.fna.gz', 'GCA_002713185.1_genomic.fna.gz', 'GCA_002719615.1_genomic.fna.gz', 'GCA_002457595.1_genomic.fna.gz', 'GCA_002712285.1_genomic.fna.gz', 'GCA_002503055.1_genomic.fna.gz', 'GCA_002501605.1_genomic.fna.gz', 'GCA_002498525.1_genomic.fna.gz', 'GCA_002495675.1_genomic.fna.gz', 'GCA_002172185.1_genomic.fna.gz', 'GCA_002506825.1_genomic.fna.gz', 'GCA_002923215.1_genomic.fna.gz', 'GCA_002726275.1_genomic.fna.gz', 'GCA_002504905.1_genomic.fna.gz', 'GCA_002685415.1_genomic.fna.gz', 'GCA_002495525.1_genomic.fna.gz', 'UBA8684_genomic.fna.gz', 'GCA_002712575.1_genomic.fna.gz', 'GCA_002838935.1_genomic.fna.gz', 'GCA_002506755.1_genomic.fna.gz', 'GCA_002502175.1_genomic.fna.gz', 'GCA_002718995.2_genomic.fna.gz', 'GCA_002499585.1_genomic.fna.gz', 'GCA_002714745.1_genomic.fna.gz', 'GCA_002496905.1_genomic.fna.gz', 'GCA_002686525.1_genomic.fna.gz', 'GCA_002708015.1_genomic.fna.gz']\n",
      "\n",
      "reading contigs from tobg_np-110.fa\n",
      "XXX GCA_002722735 s__MGIIb-O3 sp002722735 \n"
     ]
    },
    {
     "ename": "KeyError",
     "evalue": "''",
     "output_type": "error",
     "traceback": [
      "\u001b[0;31m---------------------------------------------------------------------------\u001b[0m",
      "\u001b[0;31mKeyError\u001b[0m                                  Traceback (most recent call last)",
      "\u001b[0;32m<ipython-input-25-134dd31a7616>\u001b[0m in \u001b[0;36m<module>\u001b[0;34m\u001b[0m\n\u001b[1;32m     47\u001b[0m \u001b[0mprint\u001b[0m\u001b[0;34m(\u001b[0m\u001b[0mlist\u001b[0m\u001b[0;34m(\u001b[0m\u001b[0mlca_db\u001b[0m\u001b[0;34m.\u001b[0m\u001b[0mident_to_name\u001b[0m\u001b[0;34m.\u001b[0m\u001b[0mkeys\u001b[0m\u001b[0;34m(\u001b[0m\u001b[0;34m)\u001b[0m\u001b[0;34m)\u001b[0m\u001b[0;34m)\u001b[0m\u001b[0;34m\u001b[0m\u001b[0;34m\u001b[0m\u001b[0m\n\u001b[1;32m     48\u001b[0m \u001b[0;34m\u001b[0m\u001b[0m\n\u001b[0;32m---> 49\u001b[0;31m \u001b[0mcontigs_info\u001b[0m \u001b[0;34m=\u001b[0m \u001b[0mdo\u001b[0m\u001b[0;34m(\u001b[0m\u001b[0;34m'tobg_np-110.fa'\u001b[0m\u001b[0;34m,\u001b[0m \u001b[0;34m'tobg_np-110.k31.sig'\u001b[0m\u001b[0;34m,\u001b[0m \u001b[0mlca_db\u001b[0m\u001b[0;34m)\u001b[0m\u001b[0;34m\u001b[0m\u001b[0;34m\u001b[0m\u001b[0m\n\u001b[0m\u001b[1;32m     50\u001b[0m \u001b[0mmake_sankey_fig\u001b[0m\u001b[0;34m(\u001b[0m\u001b[0;34m'tobg_np-110'\u001b[0m\u001b[0;34m,\u001b[0m \u001b[0mgenome_lin\u001b[0m\u001b[0;34m,\u001b[0m \u001b[0mcontigs_info\u001b[0m\u001b[0;34m)\u001b[0m\u001b[0;34m\u001b[0m\u001b[0;34m\u001b[0m\u001b[0m\n",
      "\u001b[0;32m<ipython-input-24-76d92726a72c>\u001b[0m in \u001b[0;36mdo\u001b[0;34m(genome_filename, genome_sig_filename, lca_db)\u001b[0m\n\u001b[1;32m     60\u001b[0m         \u001b[0;31m# collect all the gather results at genus level, together w/counts;\u001b[0m\u001b[0;34m\u001b[0m\u001b[0;34m\u001b[0m\u001b[0;34m\u001b[0m\u001b[0m\n\u001b[1;32m     61\u001b[0m         \u001b[0;31m# here, results is a list of (lineage, count) tuples.\u001b[0m\u001b[0;34m\u001b[0m\u001b[0;34m\u001b[0m\u001b[0;34m\u001b[0m\u001b[0m\n\u001b[0;32m---> 62\u001b[0;31m         \u001b[0mresults\u001b[0m \u001b[0;34m=\u001b[0m \u001b[0mlist\u001b[0m\u001b[0;34m(\u001b[0m\u001b[0mgather_at_rank\u001b[0m\u001b[0;34m(\u001b[0m\u001b[0mmh\u001b[0m\u001b[0;34m,\u001b[0m \u001b[0mlca_db\u001b[0m\u001b[0;34m,\u001b[0m \u001b[0mmatch_rank\u001b[0m\u001b[0;34m)\u001b[0m\u001b[0;34m)\u001b[0m\u001b[0;34m\u001b[0m\u001b[0;34m\u001b[0m\u001b[0m\n\u001b[0m\u001b[1;32m     63\u001b[0m \u001b[0;34m\u001b[0m\u001b[0m\n\u001b[1;32m     64\u001b[0m         \u001b[0;31m# store together with size of sequence.\u001b[0m\u001b[0;34m\u001b[0m\u001b[0;34m\u001b[0m\u001b[0;34m\u001b[0m\u001b[0m\n",
      "\u001b[0;32m<ipython-input-24-76d92726a72c>\u001b[0m in \u001b[0;36mgather_at_rank\u001b[0;34m(mh, lca_db, match_rank)\u001b[0m\n\u001b[1;32m     18\u001b[0m         \u001b[0;31m# retrieve lineage & pop to match_rank\u001b[0m\u001b[0;34m\u001b[0m\u001b[0;34m\u001b[0m\u001b[0;34m\u001b[0m\u001b[0m\n\u001b[1;32m     19\u001b[0m         \u001b[0mmatch_ident\u001b[0m \u001b[0;34m=\u001b[0m \u001b[0mos\u001b[0m\u001b[0;34m.\u001b[0m\u001b[0mpath\u001b[0m\u001b[0;34m.\u001b[0m\u001b[0mbasename\u001b[0m\u001b[0;34m(\u001b[0m\u001b[0mmatch_sig\u001b[0m\u001b[0;34m.\u001b[0m\u001b[0mfilename\u001b[0m\u001b[0;34m)\u001b[0m\u001b[0;34m\u001b[0m\u001b[0;34m\u001b[0m\u001b[0m\n\u001b[0;32m---> 20\u001b[0;31m         \u001b[0mmatch_idx\u001b[0m \u001b[0;34m=\u001b[0m \u001b[0mlca_db\u001b[0m\u001b[0;34m.\u001b[0m\u001b[0mident_to_idx\u001b[0m\u001b[0;34m[\u001b[0m\u001b[0mmatch_ident\u001b[0m\u001b[0;34m]\u001b[0m\u001b[0;34m\u001b[0m\u001b[0;34m\u001b[0m\u001b[0m\n\u001b[0m\u001b[1;32m     21\u001b[0m         \u001b[0mmatch_lid\u001b[0m \u001b[0;34m=\u001b[0m \u001b[0mlca_db\u001b[0m\u001b[0;34m.\u001b[0m\u001b[0midx_to_lid\u001b[0m\u001b[0;34m[\u001b[0m\u001b[0midx\u001b[0m\u001b[0;34m]\u001b[0m\u001b[0;34m\u001b[0m\u001b[0;34m\u001b[0m\u001b[0m\n\u001b[1;32m     22\u001b[0m         \u001b[0mmatch_lineage\u001b[0m \u001b[0;34m=\u001b[0m \u001b[0mlca_db\u001b[0m\u001b[0;34m.\u001b[0m\u001b[0mlid_to_lineage\u001b[0m\u001b[0;34m[\u001b[0m\u001b[0mmatch_lid\u001b[0m\u001b[0;34m]\u001b[0m\u001b[0;34m\u001b[0m\u001b[0;34m\u001b[0m\u001b[0m\n",
      "\u001b[0;31mKeyError\u001b[0m: ''"
     ]
    }
   ],
   "source": [
    "importlib.reload(sourmash_sankey)\n",
    "from sourmash_sankey import GenomeSankeyFlow\n",
    "\n",
    "def make_sankey_fig(title, genome_lineage, contigs_info):\n",
    "    obj = GenomeSankeyFlow()\n",
    "    \n",
    "    counts = collections.Counter()\n",
    "    for contig_name, gather_info in contigs_info.items():\n",
    "        contig_taxlist = gather_info.gather_tax\n",
    "\n",
    "        # iterate over each contig match and summarize counts.              \n",
    "        # note - here we can stop at first one, or track them all.          \n",
    "        # note - b/c gather counts each hash only once, these               \n",
    "        #     are non-overlapping                                           \n",
    "        total_hashcount = 0\n",
    "        for lin, hashcount in contig_taxlist:\n",
    "            counts[lin] += hashcount\n",
    "            total_hashcount += hashcount\n",
    "\n",
    "        # track missing => unassigned lineage\n",
    "        unident = gather_info.num_hashes - total_hashcount\n",
    "        counts[obj.unassigned_lin] += unident\n",
    "    \n",
    "    # set the color of the main lineage\n",
    "    genome_lineage = tuple(genome_lineage)\n",
    "    obj.colors[genome_lineage] = \"lightseagreen\"\n",
    "    \n",
    "    # for phylum level disagreements, let's go with palevioletred\n",
    "    for lin in counts:\n",
    "        if not utils.is_lineage_match(lin, genome_lineage, 'phylum'):\n",
    "            obj.colors[lin] = 'palevioletred'\n",
    "            \n",
    "    # assign unassigned to good lineage, maybe?\n",
    "    counts[genome_lineage] += counts[obj.unassigned_lin]\n",
    "    del counts[obj.unassigned_lin]\n",
    "    \n",
    "    obj.make_links(genome_lineage, counts)\n",
    "    fig = obj.make_plotly_fig(title)\n",
    "    \n",
    "    return fig\n",
    "\n",
    "genome_lin = 'd__Archaea,p__Thermoplasmatota,c__Poseidoniia,o__Poseidoniales,f__Thalassoarchaeaceae,g__MGIIb-O3,s__MGIIb-O3 sp002722735'\n",
    "genome_lin = utils.make_lineage(genome_lin)\n",
    "\n",
    "lca_db = sourmash.load_file_as_index('xxx.lca.json')\n",
    "\n",
    "print(list(lca_db.ident_to_name.keys()))\n",
    "\n",
    "contigs_info = do('tobg_np-110.fa', 'tobg_np-110.k31.sig', lca_db)\n",
    "make_sankey_fig('tobg_np-110', genome_lin, contigs_info)"
   ]
  },
  {
   "cell_type": "code",
   "execution_count": 5,
   "metadata": {},
   "outputs": [],
   "source": [
    "x = list(sourmash.load_signatures('tobg_np-110.sig.matches'))\n"
   ]
  },
  {
   "cell_type": "code",
   "execution_count": 7,
   "metadata": {},
   "outputs": [
    {
     "data": {
      "text/plain": [
       "'/home/ctbrown/gtdbtk/release89/fastani/database/GCA_002722735.1_genomic.fna.gz'"
      ]
     },
     "execution_count": 7,
     "metadata": {},
     "output_type": "execute_result"
    }
   ],
   "source": [
    "x[0].filename"
   ]
  },
  {
   "cell_type": "code",
   "execution_count": 8,
   "metadata": {},
   "outputs": [
    {
     "name": "stdout",
     "output_type": "stream",
     "text": [
      "xxx.lca.json\r\n"
     ]
    }
   ],
   "source": [
    "ls xxx.lca.json\n"
   ]
  },
  {
   "cell_type": "code",
   "execution_count": 10,
   "metadata": {},
   "outputs": [],
   "source": []
  },
  {
   "cell_type": "code",
   "execution_count": 11,
   "metadata": {},
   "outputs": [
    {
     "data": {
      "text/plain": [
       "LCA_Database('xxx.lca.json')"
      ]
     },
     "execution_count": 11,
     "metadata": {},
     "output_type": "execute_result"
    }
   ],
   "source": [
    "db"
   ]
  },
  {
   "cell_type": "code",
   "execution_count": 12,
   "metadata": {},
   "outputs": [
    {
     "data": {
      "text/plain": [
       "31"
      ]
     },
     "execution_count": 12,
     "metadata": {},
     "output_type": "execute_result"
    }
   ],
   "source": [
    "db.ksize"
   ]
  },
  {
   "cell_type": "code",
   "execution_count": 13,
   "metadata": {},
   "outputs": [
    {
     "data": {
      "text/plain": [
       "10000"
      ]
     },
     "execution_count": 13,
     "metadata": {},
     "output_type": "execute_result"
    }
   ],
   "source": [
    "db.scaled"
   ]
  },
  {
   "cell_type": "code",
   "execution_count": 14,
   "metadata": {},
   "outputs": [
    {
     "data": {
      "text/plain": [
       "'DNA'"
      ]
     },
     "execution_count": 14,
     "metadata": {},
     "output_type": "execute_result"
    }
   ],
   "source": [
    "db.moltype"
   ]
  },
  {
   "cell_type": "code",
   "execution_count": null,
   "metadata": {},
   "outputs": [],
   "source": []
  }
 ],
 "metadata": {
  "kernelspec": {
   "display_name": "Python (myenv)",
   "language": "python",
   "name": "myenv"
  },
  "language_info": {
   "codemirror_mode": {
    "name": "ipython",
    "version": 3
   },
   "file_extension": ".py",
   "mimetype": "text/x-python",
   "name": "python",
   "nbconvert_exporter": "python",
   "pygments_lexer": "ipython3",
   "version": "3.7.6"
  }
 },
 "nbformat": 4,
 "nbformat_minor": 4
}
